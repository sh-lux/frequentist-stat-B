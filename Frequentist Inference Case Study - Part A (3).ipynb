{
 "cells": [
  {
   "cell_type": "markdown",
   "metadata": {},
   "source": [
    "# Frequentist Inference Case Study - Part A "
   ]
  },
  {
   "cell_type": "markdown",
   "metadata": {},
   "source": [
    "## 1. Learning objectives"
   ]
  },
  {
   "cell_type": "markdown",
   "metadata": {},
   "source": [
    "Welcome to part A of the Frequentist inference case study! The purpose of this case study is to help you apply the concepts associated with Frequentist inference in Python. Frequentist inference is the process of deriving conclusions about an underlying distribution via the observation of data. In particular, you'll practice writing Python code to apply the following statistical concepts: \n",
    "* the _z_-statistic\n",
    "* the _t_-statistic\n",
    "* the difference and relationship between the two\n",
    "* the Central Limit Theorem, including its assumptions and consequences\n",
    "* how to estimate the population mean and standard deviation from a sample\n",
    "* the concept of a sampling distribution of a test statistic, particularly for the mean\n",
    "* how to combine these concepts to calculate a confidence interval"
   ]
  },
  {
   "cell_type": "markdown",
   "metadata": {},
   "source": [
    "## Prerequisites"
   ]
  },
  {
   "cell_type": "markdown",
   "metadata": {},
   "source": [
    "To be able to complete this notebook, you are expected to have a basic understanding of:\n",
    "* what a random variable is (p.400 of Professor Spiegelhalter's *The Art of Statistics, hereinafter AoS*)\n",
    "* what a population, and a population distribution, are (p. 397 of *AoS*)\n",
    "* a high-level sense of what the normal distribution is (p. 394 of *AoS*)\n",
    "* what the t-statistic is (p. 275 of *AoS*)\n",
    "\n",
    "Happily, these should all be concepts with which you are reasonably familiar after having read ten chapters of Professor Spiegelhalter's book, *The Art of Statistics*.\n",
    "\n",
    "We'll try to relate the concepts in this case study back to page numbers in *The Art of Statistics* so that you can focus on the Python aspects of this case study. The second part (part B) of this case study will involve another, more real-world application of these tools. "
   ]
  },
  {
   "cell_type": "markdown",
   "metadata": {},
   "source": [
    "For this notebook, we will use data sampled from a known normal distribution. This allows us to compare our results with theoretical expectations."
   ]
  },
  {
   "cell_type": "markdown",
   "metadata": {},
   "source": [
    "## 2. An introduction to sampling from the normal distribution"
   ]
  },
  {
   "cell_type": "markdown",
   "metadata": {},
   "source": [
    "First, let's explore the ways we can generate the normal distribution. While there's a fair amount of interest in [sklearn](https://scikit-learn.org/stable/) within the machine learning community, you're likely to have heard of [scipy](https://docs.scipy.org/doc/scipy-0.15.1/reference/index.html) if you're coming from the sciences. For this assignment, you'll use [scipy.stats](https://docs.scipy.org/doc/scipy-0.15.1/reference/tutorial/stats.html) to complete your work. \n",
    "\n",
    "This assignment will require some digging around and getting your hands dirty (your learning is maximized that way)! You should have the research skills and the tenacity to do these tasks independently, but if you struggle, reach out to your immediate community and your mentor for help. "
   ]
  },
  {
   "cell_type": "code",
   "execution_count": 1,
   "metadata": {},
   "outputs": [],
   "source": [
    "from scipy.stats import norm\n",
    "from scipy.stats import t\n",
    "import numpy as np\n",
    "import pandas as pd\n",
    "from numpy.random import seed\n",
    "import matplotlib.pyplot as plt"
   ]
  },
  {
   "cell_type": "markdown",
   "metadata": {},
   "source": [
    "__Q1:__ Call up the documentation for the `norm` function imported above. (Hint: that documentation is [here](https://docs.scipy.org/doc/scipy/reference/generated/scipy.stats.norm.html)). What is the second listed method?"
   ]
  },
  {
   "cell_type": "code",
   "execution_count": 2,
   "metadata": {},
   "outputs": [
    {
     "name": "stdout",
     "output_type": "stream",
     "text": [
      "Help on norm_gen in module scipy.stats._continuous_distns:\n",
      "\n",
      "<scipy.stats._continuous_distns.norm_gen object>\n",
      "    A normal continuous random variable.\n",
      "    \n",
      "    The location (``loc``) keyword specifies the mean.\n",
      "    The scale (``scale``) keyword specifies the standard deviation.\n",
      "    \n",
      "    As an instance of the `rv_continuous` class, `norm` object inherits from it\n",
      "    a collection of generic methods (see below for the full list),\n",
      "    and completes them with details specific for this particular distribution.\n",
      "    \n",
      "    Methods\n",
      "    -------\n",
      "    rvs(loc=0, scale=1, size=1, random_state=None)\n",
      "        Random variates.\n",
      "    pdf(x, loc=0, scale=1)\n",
      "        Probability density function.\n",
      "    logpdf(x, loc=0, scale=1)\n",
      "        Log of the probability density function.\n",
      "    cdf(x, loc=0, scale=1)\n",
      "        Cumulative distribution function.\n",
      "    logcdf(x, loc=0, scale=1)\n",
      "        Log of the cumulative distribution function.\n",
      "    sf(x, loc=0, scale=1)\n",
      "        Survival function  (also defined as ``1 - cdf``, but `sf` is sometimes more accurate).\n",
      "    logsf(x, loc=0, scale=1)\n",
      "        Log of the survival function.\n",
      "    ppf(q, loc=0, scale=1)\n",
      "        Percent point function (inverse of ``cdf`` --- percentiles).\n",
      "    isf(q, loc=0, scale=1)\n",
      "        Inverse survival function (inverse of ``sf``).\n",
      "    moment(n, loc=0, scale=1)\n",
      "        Non-central moment of order n\n",
      "    stats(loc=0, scale=1, moments='mv')\n",
      "        Mean('m'), variance('v'), skew('s'), and/or kurtosis('k').\n",
      "    entropy(loc=0, scale=1)\n",
      "        (Differential) entropy of the RV.\n",
      "    fit(data)\n",
      "        Parameter estimates for generic data.\n",
      "        See `scipy.stats.rv_continuous.fit <https://docs.scipy.org/doc/scipy/reference/generated/scipy.stats.rv_continuous.fit.html#scipy.stats.rv_continuous.fit>`__ for detailed documentation of the\n",
      "        keyword arguments.\n",
      "    expect(func, args=(), loc=0, scale=1, lb=None, ub=None, conditional=False, **kwds)\n",
      "        Expected value of a function (of one argument) with respect to the distribution.\n",
      "    median(loc=0, scale=1)\n",
      "        Median of the distribution.\n",
      "    mean(loc=0, scale=1)\n",
      "        Mean of the distribution.\n",
      "    var(loc=0, scale=1)\n",
      "        Variance of the distribution.\n",
      "    std(loc=0, scale=1)\n",
      "        Standard deviation of the distribution.\n",
      "    interval(alpha, loc=0, scale=1)\n",
      "        Endpoints of the range that contains fraction alpha [0, 1] of the\n",
      "        distribution\n",
      "    \n",
      "    Notes\n",
      "    -----\n",
      "    The probability density function for `norm` is:\n",
      "    \n",
      "    .. math::\n",
      "    \n",
      "        f(x) = \\frac{\\exp(-x^2/2)}{\\sqrt{2\\pi}}\n",
      "    \n",
      "    for a real number :math:`x`.\n",
      "    \n",
      "    The probability density above is defined in the \"standardized\" form. To shift\n",
      "    and/or scale the distribution use the ``loc`` and ``scale`` parameters.\n",
      "    Specifically, ``norm.pdf(x, loc, scale)`` is identically\n",
      "    equivalent to ``norm.pdf(y) / scale`` with\n",
      "    ``y = (x - loc) / scale``. Note that shifting the location of a distribution\n",
      "    does not make it a \"noncentral\" distribution; noncentral generalizations of\n",
      "    some distributions are available in separate classes.\n",
      "    \n",
      "    Examples\n",
      "    --------\n",
      "    >>> from scipy.stats import norm\n",
      "    >>> import matplotlib.pyplot as plt\n",
      "    >>> fig, ax = plt.subplots(1, 1)\n",
      "    \n",
      "    Calculate the first four moments:\n",
      "    \n",
      "    \n",
      "    >>> mean, var, skew, kurt = norm.stats(moments='mvsk')\n",
      "    \n",
      "    Display the probability density function (``pdf``):\n",
      "    \n",
      "    >>> x = np.linspace(norm.ppf(0.01),\n",
      "    ...                 norm.ppf(0.99), 100)\n",
      "    >>> ax.plot(x, norm.pdf(x),\n",
      "    ...        'r-', lw=5, alpha=0.6, label='norm pdf')\n",
      "    \n",
      "    Alternatively, the distribution object can be called (as a function)\n",
      "    to fix the shape, location and scale parameters. This returns a \"frozen\"\n",
      "    RV object holding the given parameters fixed.\n",
      "    \n",
      "    Freeze the distribution and display the frozen ``pdf``:\n",
      "    \n",
      "    >>> rv = norm()\n",
      "    >>> ax.plot(x, rv.pdf(x), 'k-', lw=2, label='frozen pdf')\n",
      "    \n",
      "    Check accuracy of ``cdf`` and ``ppf``:\n",
      "    \n",
      "    >>> vals = norm.ppf([0.001, 0.5, 0.999])\n",
      "    >>> np.allclose([0.001, 0.5, 0.999], norm.cdf(vals))\n",
      "    True\n",
      "    \n",
      "    Generate random numbers:\n",
      "    \n",
      "    >>> r = norm.rvs(size=1000)\n",
      "    \n",
      "    And compare the histogram:\n",
      "    \n",
      "    >>> ax.hist(r, density=True, histtype='stepfilled', alpha=0.2)\n",
      "    >>> ax.legend(loc='best', frameon=False)\n",
      "    >>> plt.show()\n",
      "\n"
     ]
    }
   ],
   "source": [
    "help(norm)"
   ]
  },
  {
   "cell_type": "markdown",
   "metadata": {},
   "source": [
    "__A:__ The second listed method is the probability density function, denoted as pdf. It computes the value of the probability density function at value 'x'. The parameter 'loc' specifies the mean of the normal distribution we are creating, whereas the parameter 'scale' specifies the standard deviation. "
   ]
  },
  {
   "cell_type": "markdown",
   "metadata": {},
   "source": [
    "__Q2:__ Use the method that generates random variates to draw five samples from the standard normal distribution. "
   ]
  },
  {
   "cell_type": "markdown",
   "metadata": {},
   "source": [
    "__A:__"
   ]
  },
  {
   "cell_type": "code",
   "execution_count": 3,
   "metadata": {},
   "outputs": [
    {
     "name": "stdout",
     "output_type": "stream",
     "text": [
      "[-0.84800948  1.30590636  0.92420797  0.6404118  -1.05473698]\n"
     ]
    }
   ],
   "source": [
    "seed(47)\n",
    "# draw five samples here\n",
    "samples = norm.rvs(size=5)\n",
    "\n",
    "# print the samples\n",
    "print(samples)"
   ]
  },
  {
   "cell_type": "markdown",
   "metadata": {},
   "source": [
    "__Q3:__ What is the mean of this sample? Is it exactly equal to the value you expected? Hint: the sample was drawn from the standard normal distribution. If you want a reminder of the properties of this distribution, check out p. 85 of *AoS*. "
   ]
  },
  {
   "cell_type": "markdown",
   "metadata": {},
   "source": [
    "__A:__"
   ]
  },
  {
   "cell_type": "code",
   "execution_count": 4,
   "metadata": {},
   "outputs": [
    {
     "name": "stdout",
     "output_type": "stream",
     "text": [
      "The mean of our sample is 0.19355593334131074\n"
     ]
    }
   ],
   "source": [
    "# Calculate and print the mean here, hint: use np.mean()\n",
    "mean = np.mean(samples)\n",
    "print(\"The mean of our sample is\", mean)"
   ]
  },
  {
   "cell_type": "markdown",
   "metadata": {},
   "source": [
    "__Q4:__ What is the standard deviation of these numbers? Calculate this manually here as $\\sqrt{\\frac{\\sum_i(x_i - \\bar{x})^2}{n}}$ (This is just the definition of **standard deviation** given by Professor Spiegelhalter on p.403 of *AoS*). Hint: np.sqrt() and np.sum() will be useful here and remember that numPy supports [broadcasting](https://docs.scipy.org/doc/numpy/user/basics.broadcasting.html)."
   ]
  },
  {
   "cell_type": "markdown",
   "metadata": {},
   "source": [
    "__A:__"
   ]
  },
  {
   "cell_type": "code",
   "execution_count": 5,
   "metadata": {},
   "outputs": [
    {
     "name": "stdout",
     "output_type": "stream",
     "text": [
      "[-1.04156541  1.11235042  0.73065203  0.44685587 -1.24829292]\n",
      "The standard deviation is: 0.9606195639478641\n"
     ]
    }
   ],
   "source": [
    "# Create a numpy array containing the difference between sample values and mean. Print it.\n",
    "diff = samples - mean\n",
    "print(diff)\n",
    "\n",
    "# The numpy array diff*diff contains the square of the elements in diff. We sum over them and store the sum in the variable s:\n",
    "s = np.sum(diff*diff)\n",
    "\n",
    "# We compute the standard deviation as the square root of s/5\n",
    "print('The standard deviation is:', np.sqrt(s/5))"
   ]
  },
  {
   "cell_type": "markdown",
   "metadata": {},
   "source": [
    "Here we have calculated the actual standard deviation of a small data set (of size 5). But in this case, this small data set is actually a sample from our larger (infinite) population. In this case, the population is infinite because we could keep drawing our normal random variates until our computers die! \n",
    "\n",
    "In general, the sample mean we calculate will not be equal to the population mean (as we saw above). A consequence of this is that the sum of squares of the deviations from the _population_ mean will be bigger than the sum of squares of the deviations from the _sample_ mean. In other words, the sum of squares of the deviations from the _sample_ mean is too small to give an unbiased estimate of the _population_ variance. An example of this effect is given [here](https://en.wikipedia.org/wiki/Bessel%27s_correction#Source_of_bias). Scaling our estimate of the variance by the factor $n/(n-1)$ gives an unbiased estimator of the population variance. This factor is known as [Bessel's correction](https://en.wikipedia.org/wiki/Bessel%27s_correction). The consequence of this is that the $n$ in the denominator is replaced by $n-1$.\n",
    "\n",
    "You can see Bessel's correction reflected in Professor Spiegelhalter's definition of **variance** on p. 405 of *AoS*.\n",
    "\n",
    "__Q5:__ If all we had to go on was our five samples, what would be our best estimate of the population standard deviation? Use Bessel's correction ($n-1$ in the denominator), thus $\\sqrt{\\frac{\\sum_i(x_i - \\bar{x})^2}{n-1}}$."
   ]
  },
  {
   "cell_type": "markdown",
   "metadata": {},
   "source": [
    "__A:__"
   ]
  },
  {
   "cell_type": "code",
   "execution_count": 6,
   "metadata": {},
   "outputs": [
    {
     "name": "stdout",
     "output_type": "stream",
     "text": [
      "The Bessel-corrected standard deviation is: 1.0740053227518152\n"
     ]
    }
   ],
   "source": [
    "# We compute the Bessel-corrected std\n",
    "print('The Bessel-corrected standard deviation is:', np.sqrt(s/4))"
   ]
  },
  {
   "cell_type": "markdown",
   "metadata": {},
   "source": [
    "__Q6:__ Now use numpy's std function to calculate the standard deviation of our random samples. Which of the above standard deviations did it return?"
   ]
  },
  {
   "cell_type": "markdown",
   "metadata": {},
   "source": [
    "__A:__"
   ]
  },
  {
   "cell_type": "code",
   "execution_count": 7,
   "metadata": {},
   "outputs": [
    {
     "name": "stdout",
     "output_type": "stream",
     "text": [
      "The standard deviation of our sample is 0.9606195639478641\n"
     ]
    }
   ],
   "source": [
    "std = np.std(samples)\n",
    "print(\"The standard deviation of our sample is\", std)"
   ]
  },
  {
   "cell_type": "markdown",
   "metadata": {},
   "source": [
    "__Q7:__ Consult the documentation for np.std() to see how to apply the correction for estimating the population parameter and verify this produces the expected result."
   ]
  },
  {
   "cell_type": "markdown",
   "metadata": {},
   "source": [
    "__A:__"
   ]
  },
  {
   "cell_type": "code",
   "execution_count": 8,
   "metadata": {},
   "outputs": [
    {
     "name": "stdout",
     "output_type": "stream",
     "text": [
      "Help on function std in module numpy:\n",
      "\n",
      "std(a, axis=None, dtype=None, out=None, ddof=0, keepdims=<no value>, *, where=<no value>)\n",
      "    Compute the standard deviation along the specified axis.\n",
      "    \n",
      "    Returns the standard deviation, a measure of the spread of a distribution,\n",
      "    of the array elements. The standard deviation is computed for the\n",
      "    flattened array by default, otherwise over the specified axis.\n",
      "    \n",
      "    Parameters\n",
      "    ----------\n",
      "    a : array_like\n",
      "        Calculate the standard deviation of these values.\n",
      "    axis : None or int or tuple of ints, optional\n",
      "        Axis or axes along which the standard deviation is computed. The\n",
      "        default is to compute the standard deviation of the flattened array.\n",
      "    \n",
      "        .. versionadded:: 1.7.0\n",
      "    \n",
      "        If this is a tuple of ints, a standard deviation is performed over\n",
      "        multiple axes, instead of a single axis or all the axes as before.\n",
      "    dtype : dtype, optional\n",
      "        Type to use in computing the standard deviation. For arrays of\n",
      "        integer type the default is float64, for arrays of float types it is\n",
      "        the same as the array type.\n",
      "    out : ndarray, optional\n",
      "        Alternative output array in which to place the result. It must have\n",
      "        the same shape as the expected output but the type (of the calculated\n",
      "        values) will be cast if necessary.\n",
      "    ddof : int, optional\n",
      "        Means Delta Degrees of Freedom.  The divisor used in calculations\n",
      "        is ``N - ddof``, where ``N`` represents the number of elements.\n",
      "        By default `ddof` is zero.\n",
      "    keepdims : bool, optional\n",
      "        If this is set to True, the axes which are reduced are left\n",
      "        in the result as dimensions with size one. With this option,\n",
      "        the result will broadcast correctly against the input array.\n",
      "    \n",
      "        If the default value is passed, then `keepdims` will not be\n",
      "        passed through to the `std` method of sub-classes of\n",
      "        `ndarray`, however any non-default value will be.  If the\n",
      "        sub-class' method does not implement `keepdims` any\n",
      "        exceptions will be raised.\n",
      "    \n",
      "    where : array_like of bool, optional\n",
      "        Elements to include in the standard deviation.\n",
      "        See `~numpy.ufunc.reduce` for details.\n",
      "    \n",
      "        .. versionadded:: 1.20.0\n",
      "    \n",
      "    Returns\n",
      "    -------\n",
      "    standard_deviation : ndarray, see dtype parameter above.\n",
      "        If `out` is None, return a new array containing the standard deviation,\n",
      "        otherwise return a reference to the output array.\n",
      "    \n",
      "    See Also\n",
      "    --------\n",
      "    var, mean, nanmean, nanstd, nanvar\n",
      "    :ref:`ufuncs-output-type`\n",
      "    \n",
      "    Notes\n",
      "    -----\n",
      "    The standard deviation is the square root of the average of the squared\n",
      "    deviations from the mean, i.e., ``std = sqrt(mean(x))``, where\n",
      "    ``x = abs(a - a.mean())**2``.\n",
      "    \n",
      "    The average squared deviation is typically calculated as ``x.sum() / N``,\n",
      "    where ``N = len(x)``. If, however, `ddof` is specified, the divisor\n",
      "    ``N - ddof`` is used instead. In standard statistical practice, ``ddof=1``\n",
      "    provides an unbiased estimator of the variance of the infinite population.\n",
      "    ``ddof=0`` provides a maximum likelihood estimate of the variance for\n",
      "    normally distributed variables. The standard deviation computed in this\n",
      "    function is the square root of the estimated variance, so even with\n",
      "    ``ddof=1``, it will not be an unbiased estimate of the standard deviation\n",
      "    per se.\n",
      "    \n",
      "    Note that, for complex numbers, `std` takes the absolute\n",
      "    value before squaring, so that the result is always real and nonnegative.\n",
      "    \n",
      "    For floating-point input, the *std* is computed using the same\n",
      "    precision the input has. Depending on the input data, this can cause\n",
      "    the results to be inaccurate, especially for float32 (see example below).\n",
      "    Specifying a higher-accuracy accumulator using the `dtype` keyword can\n",
      "    alleviate this issue.\n",
      "    \n",
      "    Examples\n",
      "    --------\n",
      "    >>> a = np.array([[1, 2], [3, 4]])\n",
      "    >>> np.std(a)\n",
      "    1.1180339887498949 # may vary\n",
      "    >>> np.std(a, axis=0)\n",
      "    array([1.,  1.])\n",
      "    >>> np.std(a, axis=1)\n",
      "    array([0.5,  0.5])\n",
      "    \n",
      "    In single precision, std() can be inaccurate:\n",
      "    \n",
      "    >>> a = np.zeros((2, 512*512), dtype=np.float32)\n",
      "    >>> a[0, :] = 1.0\n",
      "    >>> a[1, :] = 0.1\n",
      "    >>> np.std(a)\n",
      "    0.45000005\n",
      "    \n",
      "    Computing the standard deviation in float64 is more accurate:\n",
      "    \n",
      "    >>> np.std(a, dtype=np.float64)\n",
      "    0.44999999925494177 # may vary\n",
      "    \n",
      "    Specifying a where argument:\n",
      "    \n",
      "    >>> a = np.array([[14, 8, 11, 10], [7, 9, 10, 11], [10, 15, 5, 10]])\n",
      "    >>> np.std(a)\n",
      "    2.614064523559687 # may vary\n",
      "    >>> np.std(a, where=[[True], [True], [False]])\n",
      "    2.0\n",
      "\n"
     ]
    }
   ],
   "source": [
    "help(np.std)"
   ]
  },
  {
   "cell_type": "code",
   "execution_count": 9,
   "metadata": {},
   "outputs": [
    {
     "name": "stdout",
     "output_type": "stream",
     "text": [
      "The Bessel corrected sample standard deviation is 1.0740053227518152\n"
     ]
    }
   ],
   "source": [
    "std_b = np.std(samples, ddof=1)\n",
    "\n",
    "print(\"The Bessel corrected sample standard deviation is\", std_b)"
   ]
  },
  {
   "cell_type": "markdown",
   "metadata": {},
   "source": [
    "### Summary of section"
   ]
  },
  {
   "cell_type": "markdown",
   "metadata": {},
   "source": [
    "In this section, you've been introduced to the scipy.stats package and used it to draw a small sample from the standard normal distribution. You've calculated the average (the mean) of this sample and seen that this is not exactly equal to the expected population parameter (which we know because we're generating the random variates from a specific, known distribution). You've been introduced to two ways of calculating the standard deviation; one uses $n$ in the denominator and the other uses $n-1$ (Bessel's correction). You've also seen which of these calculations np.std() performs by default and how to get it to generate the other."
   ]
  },
  {
   "cell_type": "markdown",
   "metadata": {},
   "source": [
    "You use $n$ as the denominator if you want to calculate the standard deviation of a sequence of numbers. You use $n-1$ if you are using this sequence of numbers to estimate the population parameter. This brings us to some terminology that can be a little confusing.\n",
    "\n",
    "The population parameter is traditionally written as $\\sigma$ and the sample statistic as $s$. Rather unhelpfully, $s$ is also called the sample standard deviation (using $n-1$) whereas the standard deviation of the sample uses $n$. That's right, we have the sample standard deviation and the standard deviation of the sample and they're not the same thing!\n",
    "\n",
    "The sample standard deviation\n",
    "\\begin{equation}\n",
    "s = \\sqrt{\\frac{\\sum_i(x_i - \\bar{x})^2}{n-1}} \\approx \\sigma,\n",
    "\\end{equation}\n",
    "is our best (unbiased) estimate of the population parameter ($\\sigma$).\n",
    "\n",
    "If your dataset _is_ your entire population, you simply want to calculate the population parameter, $\\sigma$, via\n",
    "\\begin{equation}\n",
    "\\sigma = \\sqrt{\\frac{\\sum_i(x_i - \\bar{x})^2}{n}}\n",
    "\\end{equation}\n",
    "as you have complete, full knowledge of your population. In other words, your sample _is_ your population. It's worth noting that we're dealing with what Professor Spiegehalter describes on p. 92 of *AoS* as a **metaphorical population**: we have all the data, and we act as if the data-point is taken from a population at random. We can think of this population as an imaginary space of possibilities. \n",
    "\n",
    "If, however, you have sampled _from_ your population, you only have partial knowledge of the state of your population. In this case, the standard deviation of your sample is not an unbiased estimate of the standard deviation of the population, in which case you seek to estimate that population parameter via the sample standard deviation, which uses the $n-1$ denominator."
   ]
  },
  {
   "cell_type": "markdown",
   "metadata": {},
   "source": [
    "Great work so far! Now let's dive deeper."
   ]
  },
  {
   "cell_type": "markdown",
   "metadata": {},
   "source": [
    "## 3. Sampling distributions"
   ]
  },
  {
   "cell_type": "markdown",
   "metadata": {},
   "source": [
    "So far we've been dealing with the concept of taking a sample from a population to infer the population parameters. One statistic we calculated for a sample was the mean. As our samples will be expected to vary from one draw to another, so will our sample statistics. If we were to perform repeat draws of size $n$ and calculate the mean of each, we would expect to obtain a distribution of values. This is the sampling distribution of the mean. **The Central Limit Theorem (CLT)** tells us that such a distribution will approach a normal distribution as $n$ increases (the intuitions behind the CLT are covered in full on p. 236 of *AoS*). For the sampling distribution of the mean, the standard deviation of this distribution is given by\n",
    "\n",
    "\\begin{equation}\n",
    "\\sigma_{mean} = \\frac{\\sigma}{\\sqrt n}\n",
    "\\end{equation}\n",
    "\n",
    "where $\\sigma_{mean}$ is the standard deviation of the sampling distribution of the mean and $\\sigma$ is the standard deviation of the population (the population parameter)."
   ]
  },
  {
   "cell_type": "markdown",
   "metadata": {},
   "source": [
    "This is important because typically we are dealing with samples from populations and all we know about the population is what we see in the sample. From this sample, we want to make inferences about the population. We may do this, for example, by looking at the histogram of the values and by calculating the mean and standard deviation (as estimates of the population parameters), and so we are intrinsically interested in how these quantities vary across samples. \n",
    "\n",
    "In other words, now that we've taken one sample of size $n$ and made some claims about the general population, what if we were to take another sample of size $n$? Would we get the same result? Would we make the same claims about the general population? This brings us to a fundamental question: _when we make some inference about a population based on our sample, how confident can we be that we've got it 'right'?_\n",
    "\n",
    "We need to think about **estimates and confidence intervals**: those concepts covered in Chapter 7, p. 189, of *AoS*."
   ]
  },
  {
   "cell_type": "markdown",
   "metadata": {},
   "source": [
    "Now, the standard normal distribution (with its variance equal to its standard deviation of one) would not be a great illustration of a key point. Instead, let's imagine we live in a town of 50,000 people and we know the height of everyone in this town. We will have 50,000 numbers that tell us everything about our population. We'll simulate these numbers now and put ourselves in one particular town, called 'town 47', where the population mean height is 172 cm and population standard deviation is 5 cm."
   ]
  },
  {
   "cell_type": "code",
   "execution_count": 10,
   "metadata": {},
   "outputs": [],
   "source": [
    "seed(47)\n",
    "pop_heights = norm.rvs(172, 5, size=50000)"
   ]
  },
  {
   "cell_type": "code",
   "execution_count": 11,
   "metadata": {},
   "outputs": [
    {
     "data": {
      "image/png": "[encoded data removed]",
      "text/plain": [
       "<Figure size 432x288 with 1 Axes>"
      ]
     },
     "metadata": {
      "needs_background": "light"
     },
     "output_type": "display_data"
    }
   ],
   "source": [
    "_ = plt.hist(pop_heights, bins=30)\n",
    "_ = plt.xlabel('height (cm)')\n",
    "_ = plt.ylabel('number of people')\n",
    "_ = plt.title('Distribution of heights in entire town population')\n",
    "_ = plt.axvline(172, color='r')\n",
    "_ = plt.axvline(172+5, color='r', linestyle='--')\n",
    "_ = plt.axvline(172-5, color='r', linestyle='--')\n",
    "_ = plt.axvline(172+10, color='r', linestyle='-.')\n",
    "_ = plt.axvline(172-10, color='r', linestyle='-.')"
   ]
  },
  {
   "cell_type": "markdown",
   "metadata": {},
   "source": [
    "Now, 50,000 people is rather a lot to chase after with a tape measure. If all you want to know is the average height of the townsfolk, then can you just go out and measure a sample to get a pretty good estimate of the average height?"
   ]
  },
  {
   "cell_type": "code",
   "execution_count": 12,
   "metadata": {},
   "outputs": [],
   "source": [
    "def townsfolk_sampler(n):\n",
    "    return np.random.choice(pop_heights, n)"
   ]
  },
  {
   "cell_type": "markdown",
   "metadata": {},
   "source": [
    "Let's say you go out one day and randomly sample 10 people to measure."
   ]
  },
  {
   "cell_type": "code",
   "execution_count": 13,
   "metadata": {},
   "outputs": [],
   "source": [
    "seed(47)\n",
    "daily_sample1 = townsfolk_sampler(10)"
   ]
  },
  {
   "cell_type": "code",
   "execution_count": 14,
   "metadata": {},
   "outputs": [
    {
     "data": {
      "image/png": "[encoded data removed]",
      "text/plain": [
       "<Figure size 432x288 with 1 Axes>"
      ]
     },
     "metadata": {
      "needs_background": "light"
     },
     "output_type": "display_data"
    }
   ],
   "source": [
    "_ = plt.hist(daily_sample1, bins=10)\n",
    "_ = plt.xlabel('height (cm)')\n",
    "_ = plt.ylabel('number of people')\n",
    "_ = plt.title('Distribution of heights in sample size 10')"
   ]
  },
  {
   "cell_type": "markdown",
   "metadata": {},
   "source": [
    "The sample distribution doesn't resemble what we take the population distribution to be. What do we get for the mean?"
   ]
  },
  {
   "cell_type": "code",
   "execution_count": 15,
   "metadata": {},
   "outputs": [
    {
     "data": {
      "text/plain": [
       "173.47911444163503"
      ]
     },
     "execution_count": 15,
     "metadata": {},
     "output_type": "execute_result"
    }
   ],
   "source": [
    "np.mean(daily_sample1)"
   ]
  },
  {
   "cell_type": "markdown",
   "metadata": {},
   "source": [
    "And if we went out and repeated this experiment?"
   ]
  },
  {
   "cell_type": "code",
   "execution_count": 16,
   "metadata": {},
   "outputs": [],
   "source": [
    "daily_sample2 = townsfolk_sampler(10)"
   ]
  },
  {
   "cell_type": "code",
   "execution_count": 17,
   "metadata": {},
   "outputs": [
    {
     "data": {
      "text/plain": [
       "173.7317666636263"
      ]
     },
     "execution_count": 17,
     "metadata": {},
     "output_type": "execute_result"
    }
   ],
   "source": [
    "np.mean(daily_sample2)"
   ]
  },
  {
   "cell_type": "markdown",
   "metadata": {},
   "source": [
    "__Q8:__ Simulate performing this random trial every day for a year, calculating the mean of each daily sample of 10, and plot the resultant sampling distribution of the mean."
   ]
  },
  {
   "cell_type": "markdown",
   "metadata": {},
   "source": [
    "__A:__"
   ]
  },
  {
   "cell_type": "code",
   "execution_count": null,
   "metadata": {},
   "outputs": [],
   "source": []
  },
  {
   "cell_type": "code",
   "execution_count": 18,
   "metadata": {
    "scrolled": true
   },
   "outputs": [
    {
     "name": "stdout",
     "output_type": "stream",
     "text": [
      "Sample: 1 Sample mean: 173.47911444163503\n",
      "Sample: 2 Sample mean: 173.7317666636263\n",
      "Sample: 3 Sample mean: 172.54893867276104\n",
      "Sample: 4 Sample mean: 171.43257319553967\n",
      "Sample: 5 Sample mean: 172.7151613148319\n",
      "Sample: 6 Sample mean: 172.82799509412092\n",
      "Sample: 7 Sample mean: 172.72104620090087\n",
      "Sample: 8 Sample mean: 171.35684251559897\n",
      "Sample: 9 Sample mean: 172.06082915612325\n",
      "Sample: 10 Sample mean: 175.02116165843373\n",
      "Sample: 11 Sample mean: 172.87297442836729\n",
      "Sample: 12 Sample mean: 173.10695709894807\n",
      "Sample: 13 Sample mean: 174.28251319331625\n",
      "Sample: 14 Sample mean: 172.16799412617846\n",
      "Sample: 15 Sample mean: 172.2677166306168\n",
      "Sample: 16 Sample mean: 174.1148759511088\n",
      "Sample: 17 Sample mean: 173.76989560652873\n",
      "Sample: 18 Sample mean: 173.53587661697912\n",
      "Sample: 19 Sample mean: 171.73109636549412\n",
      "Sample: 20 Sample mean: 173.6192933521118\n",
      "Sample: 21 Sample mean: 171.4122703231149\n",
      "Sample: 22 Sample mean: 169.8912622859572\n",
      "Sample: 23 Sample mean: 171.50855064552047\n",
      "Sample: 24 Sample mean: 170.79777102526515\n",
      "Sample: 25 Sample mean: 172.13293591535268\n",
      "Sample: 26 Sample mean: 174.04237966386012\n",
      "Sample: 27 Sample mean: 171.41699712312\n",
      "Sample: 28 Sample mean: 169.68751210980005\n",
      "Sample: 29 Sample mean: 170.70138979236123\n",
      "Sample: 30 Sample mean: 170.50288822335273\n",
      "Sample: 31 Sample mean: 171.1227335807866\n",
      "Sample: 32 Sample mean: 172.18184913764566\n",
      "Sample: 33 Sample mean: 172.68945746436543\n",
      "Sample: 34 Sample mean: 171.0001004904461\n",
      "Sample: 35 Sample mean: 170.89451146667253\n",
      "Sample: 36 Sample mean: 171.09020297014567\n",
      "Sample: 37 Sample mean: 171.25533609966612\n",
      "Sample: 38 Sample mean: 172.10797845540236\n",
      "Sample: 39 Sample mean: 171.08827013545948\n",
      "Sample: 40 Sample mean: 172.6513531230999\n",
      "Sample: 41 Sample mean: 175.070689805427\n",
      "Sample: 42 Sample mean: 169.97597644140453\n",
      "Sample: 43 Sample mean: 172.2797674841427\n",
      "Sample: 44 Sample mean: 169.68001261485807\n",
      "Sample: 45 Sample mean: 172.80409332096238\n",
      "Sample: 46 Sample mean: 172.55229420480956\n",
      "Sample: 47 Sample mean: 173.83054118621465\n",
      "Sample: 48 Sample mean: 173.37568836233626\n",
      "Sample: 49 Sample mean: 171.89359355779794\n",
      "Sample: 50 Sample mean: 171.6665742212276\n",
      "Sample: 51 Sample mean: 169.9004743876151\n",
      "Sample: 52 Sample mean: 172.72984382291025\n",
      "Sample: 53 Sample mean: 169.46043079819069\n",
      "Sample: 54 Sample mean: 171.9066883458138\n",
      "Sample: 55 Sample mean: 174.31024504533102\n",
      "Sample: 56 Sample mean: 172.9549236584936\n",
      "Sample: 57 Sample mean: 170.26013472404284\n",
      "Sample: 58 Sample mean: 171.62782407697222\n",
      "Sample: 59 Sample mean: 171.93287814147618\n",
      "Sample: 60 Sample mean: 172.67107823125573\n",
      "Sample: 61 Sample mean: 173.35560534761376\n",
      "Sample: 62 Sample mean: 171.5928923513852\n",
      "Sample: 63 Sample mean: 174.01996330433786\n",
      "Sample: 64 Sample mean: 168.70526103039566\n",
      "Sample: 65 Sample mean: 174.4291544932485\n",
      "Sample: 66 Sample mean: 172.99782989083792\n",
      "Sample: 67 Sample mean: 169.85679627411287\n",
      "Sample: 68 Sample mean: 170.51072224889845\n",
      "Sample: 69 Sample mean: 169.90321605710665\n",
      "Sample: 70 Sample mean: 170.15223960286718\n",
      "Sample: 71 Sample mean: 171.69847097209998\n",
      "Sample: 72 Sample mean: 172.1247564115574\n",
      "Sample: 73 Sample mean: 170.7393421379653\n",
      "Sample: 74 Sample mean: 169.418394777909\n",
      "Sample: 75 Sample mean: 172.90126387627427\n",
      "Sample: 76 Sample mean: 173.349965975603\n",
      "Sample: 77 Sample mean: 172.31408857482649\n",
      "Sample: 78 Sample mean: 170.95008031433505\n",
      "Sample: 79 Sample mean: 168.6026063397666\n",
      "Sample: 80 Sample mean: 169.23740477644245\n",
      "Sample: 81 Sample mean: 168.98395307845203\n",
      "Sample: 82 Sample mean: 170.24977041291908\n",
      "Sample: 83 Sample mean: 172.28866881866844\n",
      "Sample: 84 Sample mean: 169.4954901013438\n",
      "Sample: 85 Sample mean: 172.14048141305437\n",
      "Sample: 86 Sample mean: 170.63029872192917\n",
      "Sample: 87 Sample mean: 170.81450578452282\n",
      "Sample: 88 Sample mean: 172.7564010423859\n",
      "Sample: 89 Sample mean: 172.270704952318\n",
      "Sample: 90 Sample mean: 172.75102003444198\n",
      "Sample: 91 Sample mean: 170.29337424391514\n",
      "Sample: 92 Sample mean: 171.37511929823515\n",
      "Sample: 93 Sample mean: 171.19824057530133\n",
      "Sample: 94 Sample mean: 175.6782843800554\n",
      "Sample: 95 Sample mean: 169.98345772406594\n",
      "Sample: 96 Sample mean: 171.97617797193666\n",
      "Sample: 97 Sample mean: 170.56013527190584\n",
      "Sample: 98 Sample mean: 171.50909868435141\n",
      "Sample: 99 Sample mean: 172.75712339394886\n",
      "Sample: 100 Sample mean: 173.2095114832777\n",
      "Sample: 101 Sample mean: 172.10653392996448\n",
      "Sample: 102 Sample mean: 173.14812711662768\n",
      "Sample: 103 Sample mean: 170.10688635551668\n",
      "Sample: 104 Sample mean: 173.3757843013828\n",
      "Sample: 105 Sample mean: 172.1393269463663\n",
      "Sample: 106 Sample mean: 169.68126101129226\n",
      "Sample: 107 Sample mean: 173.51940617466894\n",
      "Sample: 108 Sample mean: 170.64933192553676\n",
      "Sample: 109 Sample mean: 172.9302606791998\n",
      "Sample: 110 Sample mean: 171.55990939669806\n",
      "Sample: 111 Sample mean: 171.92304718402258\n",
      "Sample: 112 Sample mean: 173.64455234145223\n",
      "Sample: 113 Sample mean: 171.97230993627605\n",
      "Sample: 114 Sample mean: 171.4139294230426\n",
      "Sample: 115 Sample mean: 173.09648158348617\n",
      "Sample: 116 Sample mean: 171.59077758086715\n",
      "Sample: 117 Sample mean: 172.02580024296842\n",
      "Sample: 118 Sample mean: 172.21608501143896\n",
      "Sample: 119 Sample mean: 172.0071934611132\n",
      "Sample: 120 Sample mean: 172.33599701625351\n",
      "Sample: 121 Sample mean: 171.028648188148\n",
      "Sample: 122 Sample mean: 173.3730965923039\n",
      "Sample: 123 Sample mean: 171.63339660555894\n",
      "Sample: 124 Sample mean: 172.24280703841163\n",
      "Sample: 125 Sample mean: 170.96259686809128\n",
      "Sample: 126 Sample mean: 175.03094575416975\n",
      "Sample: 127 Sample mean: 173.6428041806974\n",
      "Sample: 128 Sample mean: 172.95723098557428\n",
      "Sample: 129 Sample mean: 171.9821148360482\n",
      "Sample: 130 Sample mean: 172.86230119411863\n",
      "Sample: 131 Sample mean: 173.2818959291762\n",
      "Sample: 132 Sample mean: 170.74391386736906\n",
      "Sample: 133 Sample mean: 171.85618466569377\n",
      "Sample: 134 Sample mean: 174.516404929308\n",
      "Sample: 135 Sample mean: 171.9757816604739\n",
      "Sample: 136 Sample mean: 172.8532356879273\n",
      "Sample: 137 Sample mean: 170.8863347896039\n",
      "Sample: 138 Sample mean: 172.02699101055003\n",
      "Sample: 139 Sample mean: 171.00702877519421\n",
      "Sample: 140 Sample mean: 174.4668408638607\n",
      "Sample: 141 Sample mean: 167.8482928708372\n",
      "Sample: 142 Sample mean: 170.87326329719744\n",
      "Sample: 143 Sample mean: 172.24076331599596\n",
      "Sample: 144 Sample mean: 174.06036645523105\n",
      "Sample: 145 Sample mean: 173.65199868699432\n",
      "Sample: 146 Sample mean: 171.31020238919996\n",
      "Sample: 147 Sample mean: 172.8757717751434\n",
      "Sample: 148 Sample mean: 169.00973760863025\n",
      "Sample: 149 Sample mean: 169.36066339463133\n",
      "Sample: 150 Sample mean: 172.8394581127686\n",
      "Sample: 151 Sample mean: 173.2849490876725\n",
      "Sample: 152 Sample mean: 167.94708299375463\n",
      "Sample: 153 Sample mean: 171.4944813760528\n",
      "Sample: 154 Sample mean: 173.26676195725375\n",
      "Sample: 155 Sample mean: 174.36603867262343\n",
      "Sample: 156 Sample mean: 169.3835107781193\n",
      "Sample: 157 Sample mean: 170.81702577580646\n",
      "Sample: 158 Sample mean: 172.65881074097973\n",
      "Sample: 159 Sample mean: 170.5043935231086\n",
      "Sample: 160 Sample mean: 174.48530539837125\n",
      "Sample: 161 Sample mean: 169.28374480528095\n",
      "Sample: 162 Sample mean: 173.11587199242774\n",
      "Sample: 163 Sample mean: 169.48869927808207\n",
      "Sample: 164 Sample mean: 174.05802462897157\n",
      "Sample: 165 Sample mean: 170.41037396562533\n",
      "Sample: 166 Sample mean: 170.3850832762101\n",
      "Sample: 167 Sample mean: 171.14614333175618\n",
      "Sample: 168 Sample mean: 171.28870072653964\n",
      "Sample: 169 Sample mean: 172.76671420430083\n",
      "Sample: 170 Sample mean: 169.95471759650735\n",
      "Sample: 171 Sample mean: 172.86382182013728\n",
      "Sample: 172 Sample mean: 172.6225511373559\n",
      "Sample: 173 Sample mean: 172.33656268781826\n",
      "Sample: 174 Sample mean: 168.62332166556928\n",
      "Sample: 175 Sample mean: 172.7111357521249\n",
      "Sample: 176 Sample mean: 171.82186352481727\n",
      "Sample: 177 Sample mean: 173.28085693950445\n",
      "Sample: 178 Sample mean: 169.06595378147523\n",
      "Sample: 179 Sample mean: 174.0801392411933\n",
      "Sample: 180 Sample mean: 174.9773349255948\n",
      "Sample: 181 Sample mean: 171.28213572811805\n",
      "Sample: 182 Sample mean: 171.6730813592417\n",
      "Sample: 183 Sample mean: 169.45634682144438\n",
      "Sample: 184 Sample mean: 173.43393215657332\n",
      "Sample: 185 Sample mean: 170.86374559269453\n",
      "Sample: 186 Sample mean: 173.21556904620837\n",
      "Sample: 187 Sample mean: 169.1862678724352\n",
      "Sample: 188 Sample mean: 171.20026812399502\n",
      "Sample: 189 Sample mean: 171.47106714440469\n",
      "Sample: 190 Sample mean: 173.32428817479482\n",
      "Sample: 191 Sample mean: 171.2691694937409\n",
      "Sample: 192 Sample mean: 169.74157082970493\n",
      "Sample: 193 Sample mean: 172.91823143229223\n",
      "Sample: 194 Sample mean: 171.78081907440483\n",
      "Sample: 195 Sample mean: 170.11860847293156\n",
      "Sample: 196 Sample mean: 171.87026079537708\n",
      "Sample: 197 Sample mean: 170.74069830935466\n",
      "Sample: 198 Sample mean: 172.46488874903895\n",
      "Sample: 199 Sample mean: 172.98225023418647\n",
      "Sample: 200 Sample mean: 174.46081103471732\n",
      "Sample: 201 Sample mean: 173.49400936370455\n",
      "Sample: 202 Sample mean: 169.51557464300683\n",
      "Sample: 203 Sample mean: 171.73063129611373\n",
      "Sample: 204 Sample mean: 170.7169353336031\n",
      "Sample: 205 Sample mean: 174.6602048576773\n",
      "Sample: 206 Sample mean: 172.3849780185491\n",
      "Sample: 207 Sample mean: 172.79482744498335\n",
      "Sample: 208 Sample mean: 172.66798523120897\n",
      "Sample: 209 Sample mean: 173.03683236655385\n",
      "Sample: 210 Sample mean: 169.03388574785288\n",
      "Sample: 211 Sample mean: 170.27625725905142\n",
      "Sample: 212 Sample mean: 171.6548397802826\n",
      "Sample: 213 Sample mean: 173.9110065626827\n",
      "Sample: 214 Sample mean: 172.36666043469813\n",
      "Sample: 215 Sample mean: 173.0806786048489\n",
      "Sample: 216 Sample mean: 170.5454321114398\n",
      "Sample: 217 Sample mean: 171.63218644552478\n",
      "Sample: 218 Sample mean: 173.75734815005714\n",
      "Sample: 219 Sample mean: 173.4663602192376\n",
      "Sample: 220 Sample mean: 173.93185477413437\n",
      "Sample: 221 Sample mean: 172.21851080918435\n",
      "Sample: 222 Sample mean: 174.99259084185877\n",
      "Sample: 223 Sample mean: 172.79446184726748\n",
      "Sample: 224 Sample mean: 171.51052052455086\n",
      "Sample: 225 Sample mean: 173.24255009028505\n",
      "Sample: 226 Sample mean: 171.8830523292385\n",
      "Sample: 227 Sample mean: 172.78335534863947\n",
      "Sample: 228 Sample mean: 171.91694787219325\n",
      "Sample: 229 Sample mean: 170.12924519370299\n",
      "Sample: 230 Sample mean: 171.6125036310404\n",
      "Sample: 231 Sample mean: 172.90245069941636\n",
      "Sample: 232 Sample mean: 173.09703321285585\n",
      "Sample: 233 Sample mean: 172.13187273881533\n",
      "Sample: 234 Sample mean: 173.1671394346884\n",
      "Sample: 235 Sample mean: 170.08389854480225\n",
      "Sample: 236 Sample mean: 173.93739863468136\n",
      "Sample: 237 Sample mean: 171.3831801935383\n",
      "Sample: 238 Sample mean: 173.0648792145468\n",
      "Sample: 239 Sample mean: 171.67286845324548\n",
      "Sample: 240 Sample mean: 172.74454332610662\n",
      "Sample: 241 Sample mean: 170.29325491672353\n",
      "Sample: 242 Sample mean: 168.50440626366915\n",
      "Sample: 243 Sample mean: 172.52943025832766\n",
      "Sample: 244 Sample mean: 168.22985199166658\n",
      "Sample: 245 Sample mean: 173.63375684095035\n",
      "Sample: 246 Sample mean: 173.8223904901435\n"
     ]
    },
    {
     "name": "stdout",
     "output_type": "stream",
     "text": [
      "Sample: 247 Sample mean: 170.64928888578683\n",
      "Sample: 248 Sample mean: 171.7803289727296\n",
      "Sample: 249 Sample mean: 169.31058690937567\n",
      "Sample: 250 Sample mean: 170.90044256609488\n",
      "Sample: 251 Sample mean: 172.67827045507593\n",
      "Sample: 252 Sample mean: 172.0422309421312\n",
      "Sample: 253 Sample mean: 173.17659183674408\n",
      "Sample: 254 Sample mean: 169.49895501607463\n",
      "Sample: 255 Sample mean: 172.8853684043484\n",
      "Sample: 256 Sample mean: 173.3982671958468\n",
      "Sample: 257 Sample mean: 169.6718344723641\n",
      "Sample: 258 Sample mean: 169.3434812632541\n",
      "Sample: 259 Sample mean: 175.1631703883851\n",
      "Sample: 260 Sample mean: 170.59481340389107\n",
      "Sample: 261 Sample mean: 170.58426243494063\n",
      "Sample: 262 Sample mean: 172.72334025117496\n",
      "Sample: 263 Sample mean: 172.1307888143033\n",
      "Sample: 264 Sample mean: 169.01609630447473\n",
      "Sample: 265 Sample mean: 171.15681558897592\n",
      "Sample: 266 Sample mean: 174.684931280434\n",
      "Sample: 267 Sample mean: 169.29446475103575\n",
      "Sample: 268 Sample mean: 171.65686646102714\n",
      "Sample: 269 Sample mean: 173.8172097345154\n",
      "Sample: 270 Sample mean: 170.72391555094927\n",
      "Sample: 271 Sample mean: 170.5159267446483\n",
      "Sample: 272 Sample mean: 174.0926258645925\n",
      "Sample: 273 Sample mean: 168.74354262686796\n",
      "Sample: 274 Sample mean: 171.60449755276952\n",
      "Sample: 275 Sample mean: 173.35249290348906\n",
      "Sample: 276 Sample mean: 169.59524622005407\n",
      "Sample: 277 Sample mean: 172.31825115793964\n",
      "Sample: 278 Sample mean: 173.43051530494725\n",
      "Sample: 279 Sample mean: 175.97945459508188\n",
      "Sample: 280 Sample mean: 172.41542957870462\n",
      "Sample: 281 Sample mean: 172.48108913345823\n",
      "Sample: 282 Sample mean: 175.73235560113446\n",
      "Sample: 283 Sample mean: 173.30917671705808\n",
      "Sample: 284 Sample mean: 170.5016307174128\n",
      "Sample: 285 Sample mean: 171.47442800822694\n",
      "Sample: 286 Sample mean: 172.921116303701\n",
      "Sample: 287 Sample mean: 171.1639042540142\n",
      "Sample: 288 Sample mean: 173.15958685889186\n",
      "Sample: 289 Sample mean: 170.6199464194715\n",
      "Sample: 290 Sample mean: 170.84177739176616\n",
      "Sample: 291 Sample mean: 171.99038709269252\n",
      "Sample: 292 Sample mean: 174.23130175705404\n",
      "Sample: 293 Sample mean: 170.4855060493516\n",
      "Sample: 294 Sample mean: 172.02085224658146\n",
      "Sample: 295 Sample mean: 172.08650337240257\n",
      "Sample: 296 Sample mean: 173.12384811687497\n",
      "Sample: 297 Sample mean: 170.09817772721084\n",
      "Sample: 298 Sample mean: 171.4714587067785\n",
      "Sample: 299 Sample mean: 172.78753151796303\n",
      "Sample: 300 Sample mean: 172.85937740574727\n",
      "Sample: 301 Sample mean: 169.39067373385993\n",
      "Sample: 302 Sample mean: 172.88433436767303\n",
      "Sample: 303 Sample mean: 172.09661414856313\n",
      "Sample: 304 Sample mean: 172.27425697400423\n",
      "Sample: 305 Sample mean: 170.7114548591524\n",
      "Sample: 306 Sample mean: 172.19296597942235\n",
      "Sample: 307 Sample mean: 167.52865965907253\n",
      "Sample: 308 Sample mean: 172.32570464261443\n",
      "Sample: 309 Sample mean: 172.72742669079858\n",
      "Sample: 310 Sample mean: 172.5216957174198\n",
      "Sample: 311 Sample mean: 172.05940736419612\n",
      "Sample: 312 Sample mean: 168.8771648188222\n",
      "Sample: 313 Sample mean: 170.44810196307384\n",
      "Sample: 314 Sample mean: 173.01149455582384\n",
      "Sample: 315 Sample mean: 172.52292732563117\n",
      "Sample: 316 Sample mean: 169.7669347411906\n",
      "Sample: 317 Sample mean: 169.465402331526\n",
      "Sample: 318 Sample mean: 173.02223016664223\n",
      "Sample: 319 Sample mean: 170.27061511503928\n",
      "Sample: 320 Sample mean: 171.18421420659692\n",
      "Sample: 321 Sample mean: 173.06750477700962\n",
      "Sample: 322 Sample mean: 173.43258352486112\n",
      "Sample: 323 Sample mean: 171.82939845035773\n",
      "Sample: 324 Sample mean: 170.92672944980677\n",
      "Sample: 325 Sample mean: 169.81785832026858\n",
      "Sample: 326 Sample mean: 171.92871073981357\n",
      "Sample: 327 Sample mean: 170.34135388864743\n",
      "Sample: 328 Sample mean: 169.05442315458353\n",
      "Sample: 329 Sample mean: 172.84601765466334\n",
      "Sample: 330 Sample mean: 171.73522189318317\n",
      "Sample: 331 Sample mean: 169.2123811879794\n",
      "Sample: 332 Sample mean: 172.29730173923366\n",
      "Sample: 333 Sample mean: 169.99961438919348\n",
      "Sample: 334 Sample mean: 170.02830791269838\n",
      "Sample: 335 Sample mean: 171.75064789746975\n",
      "Sample: 336 Sample mean: 170.766935167691\n",
      "Sample: 337 Sample mean: 173.9810026650127\n",
      "Sample: 338 Sample mean: 169.92358516806348\n",
      "Sample: 339 Sample mean: 174.53205578998305\n",
      "Sample: 340 Sample mean: 173.21890262201072\n",
      "Sample: 341 Sample mean: 174.25370792104414\n",
      "Sample: 342 Sample mean: 172.91850748641357\n",
      "Sample: 343 Sample mean: 172.6887688830941\n",
      "Sample: 344 Sample mean: 172.064319088991\n",
      "Sample: 345 Sample mean: 169.88770099269323\n",
      "Sample: 346 Sample mean: 171.46079489790765\n",
      "Sample: 347 Sample mean: 171.48307828152147\n",
      "Sample: 348 Sample mean: 172.59879898682084\n",
      "Sample: 349 Sample mean: 172.37504542447692\n",
      "Sample: 350 Sample mean: 168.70639919115436\n",
      "Sample: 351 Sample mean: 172.76066642690037\n",
      "Sample: 352 Sample mean: 171.6634185490236\n",
      "Sample: 353 Sample mean: 173.98434386877807\n",
      "Sample: 354 Sample mean: 171.42827851034042\n",
      "Sample: 355 Sample mean: 171.77118445785496\n",
      "Sample: 356 Sample mean: 169.17922506646468\n",
      "Sample: 357 Sample mean: 173.782895546607\n",
      "Sample: 358 Sample mean: 170.82035700816542\n",
      "Sample: 359 Sample mean: 170.98291389030948\n",
      "Sample: 360 Sample mean: 172.02218170287054\n",
      "Sample: 361 Sample mean: 173.20080178649226\n",
      "Sample: 362 Sample mean: 172.85589043208137\n",
      "Sample: 363 Sample mean: 171.9024897421873\n",
      "Sample: 364 Sample mean: 170.45743937442882\n",
      "Sample: 365 Sample mean: 171.64487927395743\n"
     ]
    }
   ],
   "source": [
    "seed(47)\n",
    "# take your samples here\n",
    "\n",
    "# Initialize to 0 an array of 365 entries\n",
    "mean_sample = [0]*365\n",
    "\n",
    "# This for loop samples 365 times, computing the mean of each sample and storing them in the array mean_sample\n",
    "for i in range(0, 365):\n",
    "    sample = townsfolk_sampler(10)\n",
    "    mean_sample[i] = np.mean(sample)\n",
    "    print('Sample:', i+1, 'Sample mean:', mean_sample[i] )\n",
    "\n",
    "    \n"
   ]
  },
  {
   "cell_type": "code",
   "execution_count": 19,
   "metadata": {},
   "outputs": [
    {
     "data": {
      "image/png": "[encoded data removed]",
      "text/plain": [
       "<Figure size 432x288 with 1 Axes>"
      ]
     },
     "metadata": {
      "needs_background": "light"
     },
     "output_type": "display_data"
    }
   ],
   "source": [
    "plt.hist(mean_sample, bins = 10) \n",
    "plt.xlim(xmin=166, xmax = 178)\n",
    "plt.xlabel('Mean')\n",
    "plt.ylabel('Frequency')\n",
    "plt.show()"
   ]
  },
  {
   "cell_type": "markdown",
   "metadata": {},
   "source": [
    "The above is the distribution of the means of samples of size 10 taken from our population. The Central Limit Theorem tells us the expected mean of this distribution will be equal to the population mean, and standard deviation will be $\\sigma / \\sqrt n$, which, in this case, should be approximately 1.58."
   ]
  },
  {
   "cell_type": "markdown",
   "metadata": {},
   "source": [
    "__Q9:__ Verify the above results from the CLT."
   ]
  },
  {
   "cell_type": "markdown",
   "metadata": {},
   "source": [
    "__A:__"
   ]
  },
  {
   "cell_type": "code",
   "execution_count": 20,
   "metadata": {},
   "outputs": [
    {
     "data": {
      "text/plain": [
       "171.8660049358649"
      ]
     },
     "execution_count": 20,
     "metadata": {},
     "output_type": "execute_result"
    }
   ],
   "source": [
    "#Compute the mean of the sample means. Should be close to 172.\n",
    "np.mean(mean_sample)"
   ]
  },
  {
   "cell_type": "code",
   "execution_count": 21,
   "metadata": {},
   "outputs": [
    {
     "data": {
      "text/plain": [
       "1.5756704135286475"
      ]
     },
     "execution_count": 21,
     "metadata": {},
     "output_type": "execute_result"
    }
   ],
   "source": [
    "# Compute the standard deviation of the distribution of sample means. Should be close to 1.58. \n",
    "np.std(mean_sample)"
   ]
  },
  {
   "cell_type": "markdown",
   "metadata": {},
   "source": [
    "Remember, in this instance, we knew our population parameters, that the average height really is 172 cm and the standard deviation is 5 cm, and we see some of our daily estimates of the population mean were as low as around 168 and some as high as 176."
   ]
  },
  {
   "cell_type": "markdown",
   "metadata": {},
   "source": [
    "__Q10:__ Repeat the above year's worth of samples but for a sample size of 50 (perhaps you had a bigger budget for conducting surveys that year)! Would you expect your distribution of sample means to be wider (more variable) or narrower (more consistent)? Compare your resultant summary statistics to those predicted by the CLT."
   ]
  },
  {
   "cell_type": "markdown",
   "metadata": {},
   "source": [
    "__A:__"
   ]
  },
  {
   "cell_type": "code",
   "execution_count": 22,
   "metadata": {},
   "outputs": [
    {
     "name": "stdout",
     "output_type": "stream",
     "text": [
      "Sample: 1 Mean sample: 172.7815108576788\n",
      "Sample: 2 Mean sample: 172.79757492503552\n",
      "Sample: 3 Mean sample: 172.9396310954854\n",
      "Sample: 4 Mean sample: 173.3542075784445\n",
      "Sample: 5 Mean sample: 171.1485580390421\n",
      "Sample: 6 Mean sample: 171.27023338249884\n",
      "Sample: 7 Mean sample: 171.57773042798325\n",
      "Sample: 8 Mean sample: 171.63862815675472\n",
      "Sample: 9 Mean sample: 171.96210793335894\n",
      "Sample: 10 Mean sample: 172.66373830647717\n",
      "Sample: 11 Mean sample: 171.6615364799722\n",
      "Sample: 12 Mean sample: 171.88936776644812\n",
      "Sample: 13 Mean sample: 172.4205753053962\n",
      "Sample: 14 Mean sample: 170.68416081476462\n",
      "Sample: 15 Mean sample: 171.37644563516122\n",
      "Sample: 16 Mean sample: 170.89082919619474\n",
      "Sample: 17 Mean sample: 170.63167276488755\n",
      "Sample: 18 Mean sample: 171.84458610711957\n",
      "Sample: 19 Mean sample: 171.7056952443146\n",
      "Sample: 20 Mean sample: 172.0024093610841\n",
      "Sample: 21 Mean sample: 172.17533172997156\n",
      "Sample: 22 Mean sample: 171.66803383747916\n",
      "Sample: 23 Mean sample: 172.41006409365593\n",
      "Sample: 24 Mean sample: 172.03517066252826\n",
      "Sample: 25 Mean sample: 171.84810905850273\n",
      "Sample: 26 Mean sample: 173.29507939012166\n",
      "Sample: 27 Mean sample: 172.47483621040422\n",
      "Sample: 28 Mean sample: 172.24808622542724\n",
      "Sample: 29 Mean sample: 171.7349369252512\n",
      "Sample: 30 Mean sample: 171.0791666560747\n",
      "Sample: 31 Mean sample: 172.0718628174714\n",
      "Sample: 32 Mean sample: 171.56980924327706\n",
      "Sample: 33 Mean sample: 171.27134293407755\n",
      "Sample: 34 Mean sample: 171.10827182706282\n",
      "Sample: 35 Mean sample: 171.83147861260113\n",
      "Sample: 36 Mean sample: 172.64522968251705\n",
      "Sample: 37 Mean sample: 171.34184833161441\n",
      "Sample: 38 Mean sample: 171.67949207236762\n",
      "Sample: 39 Mean sample: 171.1656798606149\n",
      "Sample: 40 Mean sample: 172.50378182453488\n",
      "Sample: 41 Mean sample: 172.02347109882115\n",
      "Sample: 42 Mean sample: 171.98370176182962\n",
      "Sample: 43 Mean sample: 172.25788852831275\n",
      "Sample: 44 Mean sample: 172.66663634007872\n",
      "Sample: 45 Mean sample: 172.95172682262927\n",
      "Sample: 46 Mean sample: 171.6650208749629\n",
      "Sample: 47 Mean sample: 172.27647892611563\n",
      "Sample: 48 Mean sample: 172.56057396442372\n",
      "Sample: 49 Mean sample: 170.63814005426747\n",
      "Sample: 50 Mean sample: 171.2926075648261\n",
      "Sample: 51 Mean sample: 172.05628333087486\n",
      "Sample: 52 Mean sample: 171.63431334474822\n",
      "Sample: 53 Mean sample: 171.12226067877384\n",
      "Sample: 54 Mean sample: 172.0354775555923\n",
      "Sample: 55 Mean sample: 171.66181713847348\n",
      "Sample: 56 Mean sample: 172.74777937134553\n",
      "Sample: 57 Mean sample: 172.69973603545813\n",
      "Sample: 58 Mean sample: 171.7412662455689\n",
      "Sample: 59 Mean sample: 172.16291010361644\n",
      "Sample: 60 Mean sample: 172.0680786949149\n",
      "Sample: 61 Mean sample: 171.47146681665058\n",
      "Sample: 62 Mean sample: 171.45929053786557\n",
      "Sample: 63 Mean sample: 171.38381920550947\n",
      "Sample: 64 Mean sample: 170.74187931219902\n",
      "Sample: 65 Mean sample: 171.81481490446072\n",
      "Sample: 66 Mean sample: 171.1811454661782\n",
      "Sample: 67 Mean sample: 170.65765062531491\n",
      "Sample: 68 Mean sample: 172.48449628255221\n",
      "Sample: 69 Mean sample: 172.3626008744472\n",
      "Sample: 70 Mean sample: 171.3248233563762\n",
      "Sample: 71 Mean sample: 172.32157836257954\n",
      "Sample: 72 Mean sample: 171.3575146428834\n",
      "Sample: 73 Mean sample: 172.01230012182947\n",
      "Sample: 74 Mean sample: 171.45586797475937\n",
      "Sample: 75 Mean sample: 172.60832644769337\n",
      "Sample: 76 Mean sample: 172.90923064763888\n",
      "Sample: 77 Mean sample: 171.8232960400748\n",
      "Sample: 78 Mean sample: 172.02353512146678\n",
      "Sample: 79 Mean sample: 172.69244683833068\n",
      "Sample: 80 Mean sample: 172.5943354823301\n",
      "Sample: 81 Mean sample: 171.99559210545397\n",
      "Sample: 82 Mean sample: 170.88697444561848\n",
      "Sample: 83 Mean sample: 171.1287369020899\n",
      "Sample: 84 Mean sample: 173.3049050979804\n",
      "Sample: 85 Mean sample: 172.69005486736165\n",
      "Sample: 86 Mean sample: 171.31418515136443\n",
      "Sample: 87 Mean sample: 171.93620537662483\n",
      "Sample: 88 Mean sample: 170.84661950770945\n",
      "Sample: 89 Mean sample: 171.9420815386141\n",
      "Sample: 90 Mean sample: 172.7083537460361\n",
      "Sample: 91 Mean sample: 172.1068195680666\n",
      "Sample: 92 Mean sample: 172.08204873872012\n",
      "Sample: 93 Mean sample: 172.0857165025829\n",
      "Sample: 94 Mean sample: 172.28737626070964\n",
      "Sample: 95 Mean sample: 172.04409392625038\n",
      "Sample: 96 Mean sample: 171.72714932124234\n",
      "Sample: 97 Mean sample: 171.6108994453248\n",
      "Sample: 98 Mean sample: 171.40343323871966\n",
      "Sample: 99 Mean sample: 172.30606391429757\n",
      "Sample: 100 Mean sample: 173.14332165770466\n",
      "Sample: 101 Mean sample: 172.27657327770484\n",
      "Sample: 102 Mean sample: 171.86275141603662\n",
      "Sample: 103 Mean sample: 171.50224664098383\n",
      "Sample: 104 Mean sample: 170.07952858877113\n",
      "Sample: 105 Mean sample: 172.5189009341571\n",
      "Sample: 106 Mean sample: 171.22251422041813\n",
      "Sample: 107 Mean sample: 172.67348326757946\n",
      "Sample: 108 Mean sample: 171.3293814179121\n",
      "Sample: 109 Mean sample: 171.00380509699332\n",
      "Sample: 110 Mean sample: 172.04855887469952\n",
      "Sample: 111 Mean sample: 172.35372679227385\n",
      "Sample: 112 Mean sample: 170.67921568704617\n",
      "Sample: 113 Mean sample: 172.99986959212052\n",
      "Sample: 114 Mean sample: 172.26329470364595\n",
      "Sample: 115 Mean sample: 172.0372815194926\n",
      "Sample: 116 Mean sample: 172.35291480579843\n",
      "Sample: 117 Mean sample: 172.11903049105516\n",
      "Sample: 118 Mean sample: 172.0066044678251\n",
      "Sample: 119 Mean sample: 172.46448231204985\n",
      "Sample: 120 Mean sample: 172.4842815283576\n",
      "Sample: 121 Mean sample: 173.0169980361144\n",
      "Sample: 122 Mean sample: 170.89881785435747\n",
      "Sample: 123 Mean sample: 171.42254596527545\n",
      "Sample: 124 Mean sample: 171.37289809789033\n",
      "Sample: 125 Mean sample: 171.2414752854563\n",
      "Sample: 126 Mean sample: 172.86603311439686\n",
      "Sample: 127 Mean sample: 172.39453776258665\n",
      "Sample: 128 Mean sample: 171.30716428108641\n",
      "Sample: 129 Mean sample: 171.4019540281487\n",
      "Sample: 130 Mean sample: 172.76196180965368\n",
      "Sample: 131 Mean sample: 172.32905324065024\n",
      "Sample: 132 Mean sample: 172.3554490722028\n",
      "Sample: 133 Mean sample: 172.5489706719045\n",
      "Sample: 134 Mean sample: 172.98899631619722\n",
      "Sample: 135 Mean sample: 171.2300829660369\n",
      "Sample: 136 Mean sample: 171.7600764723803\n",
      "Sample: 137 Mean sample: 171.15894560780814\n",
      "Sample: 138 Mean sample: 172.2999306331501\n",
      "Sample: 139 Mean sample: 171.83028602099984\n",
      "Sample: 140 Mean sample: 171.32862238423687\n",
      "Sample: 141 Mean sample: 170.77936767894244\n",
      "Sample: 142 Mean sample: 172.36292504264466\n",
      "Sample: 143 Mean sample: 172.0627351161584\n",
      "Sample: 144 Mean sample: 172.4572213189606\n",
      "Sample: 145 Mean sample: 171.47259301389403\n",
      "Sample: 146 Mean sample: 172.70448049640206\n",
      "Sample: 147 Mean sample: 170.9033793774536\n",
      "Sample: 148 Mean sample: 171.4977384620653\n",
      "Sample: 149 Mean sample: 171.92281752488395\n",
      "Sample: 150 Mean sample: 172.86154988875325\n",
      "Sample: 151 Mean sample: 172.8406753273718\n",
      "Sample: 152 Mean sample: 171.93324378922023\n",
      "Sample: 153 Mean sample: 171.74883388697694\n",
      "Sample: 154 Mean sample: 171.98380721046607\n",
      "Sample: 155 Mean sample: 171.46917463958798\n",
      "Sample: 156 Mean sample: 172.6146893473156\n",
      "Sample: 157 Mean sample: 172.91164033636466\n",
      "Sample: 158 Mean sample: 173.15753287968465\n",
      "Sample: 159 Mean sample: 172.27759829362836\n",
      "Sample: 160 Mean sample: 171.6774296769677\n",
      "Sample: 161 Mean sample: 171.54975020959088\n",
      "Sample: 162 Mean sample: 171.18582241213085\n",
      "Sample: 163 Mean sample: 171.66755046501711\n",
      "Sample: 164 Mean sample: 172.41658296742696\n",
      "Sample: 165 Mean sample: 173.04107187033074\n",
      "Sample: 166 Mean sample: 172.82076706195545\n",
      "Sample: 167 Mean sample: 171.46704286023976\n",
      "Sample: 168 Mean sample: 172.96233338098062\n",
      "Sample: 169 Mean sample: 172.12934776128904\n",
      "Sample: 170 Mean sample: 172.08330964582936\n",
      "Sample: 171 Mean sample: 171.8006916652453\n",
      "Sample: 172 Mean sample: 172.34308489334754\n",
      "Sample: 173 Mean sample: 171.88215305794077\n",
      "Sample: 174 Mean sample: 171.1559085024102\n",
      "Sample: 175 Mean sample: 171.85364449530417\n",
      "Sample: 176 Mean sample: 172.93460329977185\n",
      "Sample: 177 Mean sample: 173.18000857755993\n",
      "Sample: 178 Mean sample: 171.63724982728382\n",
      "Sample: 179 Mean sample: 173.4162760941612\n",
      "Sample: 180 Mean sample: 171.45107342933244\n",
      "Sample: 181 Mean sample: 170.76490777374693\n",
      "Sample: 182 Mean sample: 171.6380925465537\n",
      "Sample: 183 Mean sample: 171.74032428812748\n",
      "Sample: 184 Mean sample: 173.80301248510375\n",
      "Sample: 185 Mean sample: 171.74462296299367\n",
      "Sample: 186 Mean sample: 173.6235349342996\n",
      "Sample: 187 Mean sample: 171.2647502513369\n",
      "Sample: 188 Mean sample: 172.06979893037817\n",
      "Sample: 189 Mean sample: 172.17030823278597\n",
      "Sample: 190 Mean sample: 170.44348581706814\n",
      "Sample: 191 Mean sample: 172.73644707827924\n",
      "Sample: 192 Mean sample: 172.19090153359073\n",
      "Sample: 193 Mean sample: 170.6578604779148\n",
      "Sample: 194 Mean sample: 172.10099771905325\n",
      "Sample: 195 Mean sample: 171.71531553821683\n",
      "Sample: 196 Mean sample: 171.97867899672087\n",
      "Sample: 197 Mean sample: 171.99897228560974\n",
      "Sample: 198 Mean sample: 172.4364591414134\n",
      "Sample: 199 Mean sample: 171.1243322935377\n",
      "Sample: 200 Mean sample: 172.03204756684772\n",
      "Sample: 201 Mean sample: 171.30211257997559\n",
      "Sample: 202 Mean sample: 172.00669486226315\n",
      "Sample: 203 Mean sample: 172.38311872523292\n",
      "Sample: 204 Mean sample: 171.33568707613824\n",
      "Sample: 205 Mean sample: 171.33985719376716\n",
      "Sample: 206 Mean sample: 171.95870433759694\n",
      "Sample: 207 Mean sample: 171.1496261610421\n",
      "Sample: 208 Mean sample: 172.5782952059696\n",
      "Sample: 209 Mean sample: 172.42033433556662\n",
      "Sample: 210 Mean sample: 171.54928742914416\n",
      "Sample: 211 Mean sample: 172.5723730532069\n",
      "Sample: 212 Mean sample: 171.56614037303956\n",
      "Sample: 213 Mean sample: 171.37921101331048\n",
      "Sample: 214 Mean sample: 171.52449936229027\n",
      "Sample: 215 Mean sample: 171.33306899210882\n",
      "Sample: 216 Mean sample: 171.82625547275902\n",
      "Sample: 217 Mean sample: 171.44376529985166\n",
      "Sample: 218 Mean sample: 171.9873267301407\n",
      "Sample: 219 Mean sample: 172.0094762498349\n",
      "Sample: 220 Mean sample: 172.81511936308092\n",
      "Sample: 221 Mean sample: 171.91731067977227\n",
      "Sample: 222 Mean sample: 172.0977196544409\n",
      "Sample: 223 Mean sample: 172.32574513267085\n",
      "Sample: 224 Mean sample: 172.60347671265737\n",
      "Sample: 225 Mean sample: 172.44053362590222\n",
      "Sample: 226 Mean sample: 170.7468452174613\n",
      "Sample: 227 Mean sample: 170.98868067184708\n",
      "Sample: 228 Mean sample: 171.84561306662016\n",
      "Sample: 229 Mean sample: 171.8761956044929\n",
      "Sample: 230 Mean sample: 173.16669451210873\n",
      "Sample: 231 Mean sample: 171.758230409592\n",
      "Sample: 232 Mean sample: 172.31744287207303\n",
      "Sample: 233 Mean sample: 172.26066373967592\n",
      "Sample: 234 Mean sample: 172.90387119314428\n",
      "Sample: 235 Mean sample: 172.1542094707465\n",
      "Sample: 236 Mean sample: 172.41611963294156\n",
      "Sample: 237 Mean sample: 170.69078115925237\n",
      "Sample: 238 Mean sample: 172.74649501887535\n",
      "Sample: 239 Mean sample: 171.07615434950935\n",
      "Sample: 240 Mean sample: 172.02698832176975\n",
      "Sample: 241 Mean sample: 172.00554677262645\n",
      "Sample: 242 Mean sample: 172.74745263250585\n",
      "Sample: 243 Mean sample: 171.65945615758167\n",
      "Sample: 244 Mean sample: 172.42931787037676\n",
      "Sample: 245 Mean sample: 171.31139266156774\n",
      "Sample: 246 Mean sample: 172.86340638614564\n",
      "Sample: 247 Mean sample: 172.63046912414976\n",
      "Sample: 248 Mean sample: 171.90607197945067\n",
      "Sample: 249 Mean sample: 170.72003646709956\n",
      "Sample: 250 Mean sample: 172.10949275660838\n",
      "Sample: 251 Mean sample: 171.45152053467376\n",
      "Sample: 252 Mean sample: 171.86770717358283\n",
      "Sample: 253 Mean sample: 171.39371405813117\n",
      "Sample: 254 Mean sample: 172.14407557961246\n",
      "Sample: 255 Mean sample: 171.86145845615715\n",
      "Sample: 256 Mean sample: 171.0643157579227\n",
      "Sample: 257 Mean sample: 171.11107165580725\n",
      "Sample: 258 Mean sample: 171.97515142159185\n"
     ]
    },
    {
     "name": "stdout",
     "output_type": "stream",
     "text": [
      "Sample: 259 Mean sample: 172.2507452119935\n",
      "Sample: 260 Mean sample: 172.1856139091256\n",
      "Sample: 261 Mean sample: 172.4867254532553\n",
      "Sample: 262 Mean sample: 172.62914954558713\n",
      "Sample: 263 Mean sample: 172.8416069041034\n",
      "Sample: 264 Mean sample: 172.95766914878197\n",
      "Sample: 265 Mean sample: 173.10461610473183\n",
      "Sample: 266 Mean sample: 171.41466281567926\n",
      "Sample: 267 Mean sample: 171.89091850205338\n",
      "Sample: 268 Mean sample: 171.91765493682541\n",
      "Sample: 269 Mean sample: 171.3856728570194\n",
      "Sample: 270 Mean sample: 172.5580115051518\n",
      "Sample: 271 Mean sample: 170.83751768580808\n",
      "Sample: 272 Mean sample: 172.60219501605832\n",
      "Sample: 273 Mean sample: 171.7505797307657\n",
      "Sample: 274 Mean sample: 171.9617303911309\n",
      "Sample: 275 Mean sample: 171.84660491414547\n",
      "Sample: 276 Mean sample: 172.35776791909186\n",
      "Sample: 277 Mean sample: 171.2458779978962\n",
      "Sample: 278 Mean sample: 171.93438007088704\n",
      "Sample: 279 Mean sample: 171.8606276617006\n",
      "Sample: 280 Mean sample: 171.84556709017835\n",
      "Sample: 281 Mean sample: 171.44970933561854\n",
      "Sample: 282 Mean sample: 172.74576860936187\n",
      "Sample: 283 Mean sample: 170.38777847996414\n",
      "Sample: 284 Mean sample: 172.3466863540159\n",
      "Sample: 285 Mean sample: 172.8038464437931\n",
      "Sample: 286 Mean sample: 171.91877900815456\n",
      "Sample: 287 Mean sample: 172.66506616836838\n",
      "Sample: 288 Mean sample: 170.78590101157235\n",
      "Sample: 289 Mean sample: 172.11850648936783\n",
      "Sample: 290 Mean sample: 170.75665956609814\n",
      "Sample: 291 Mean sample: 171.7151020651713\n",
      "Sample: 292 Mean sample: 172.10742863250215\n",
      "Sample: 293 Mean sample: 172.51206031029852\n",
      "Sample: 294 Mean sample: 171.65287206192647\n",
      "Sample: 295 Mean sample: 172.55011484163367\n",
      "Sample: 296 Mean sample: 171.80014021314176\n",
      "Sample: 297 Mean sample: 171.68322902960838\n",
      "Sample: 298 Mean sample: 171.72240274574912\n",
      "Sample: 299 Mean sample: 171.58157929787114\n",
      "Sample: 300 Mean sample: 172.89233455637458\n",
      "Sample: 301 Mean sample: 171.35548749762108\n",
      "Sample: 302 Mean sample: 171.21277983252344\n",
      "Sample: 303 Mean sample: 172.50712890942086\n",
      "Sample: 304 Mean sample: 170.60810840182512\n",
      "Sample: 305 Mean sample: 172.58764074576774\n",
      "Sample: 306 Mean sample: 172.59321378019294\n",
      "Sample: 307 Mean sample: 172.75315782350623\n",
      "Sample: 308 Mean sample: 171.78472781834543\n",
      "Sample: 309 Mean sample: 170.56401239103522\n",
      "Sample: 310 Mean sample: 172.65025382629744\n",
      "Sample: 311 Mean sample: 172.50016154070934\n",
      "Sample: 312 Mean sample: 171.01133751509252\n",
      "Sample: 313 Mean sample: 171.89707218069572\n",
      "Sample: 314 Mean sample: 171.39777017939866\n",
      "Sample: 315 Mean sample: 171.5888706941444\n",
      "Sample: 316 Mean sample: 172.17453748533066\n",
      "Sample: 317 Mean sample: 172.5422328160275\n",
      "Sample: 318 Mean sample: 171.25478419429447\n",
      "Sample: 319 Mean sample: 171.48147133549224\n",
      "Sample: 320 Mean sample: 171.46642822745997\n",
      "Sample: 321 Mean sample: 171.58713991008008\n",
      "Sample: 322 Mean sample: 172.04420677191985\n",
      "Sample: 323 Mean sample: 172.82918744818838\n",
      "Sample: 324 Mean sample: 172.51828644828274\n",
      "Sample: 325 Mean sample: 172.5579170585349\n",
      "Sample: 326 Mean sample: 170.41746242201705\n",
      "Sample: 327 Mean sample: 172.21333956770403\n",
      "Sample: 328 Mean sample: 170.64348987977087\n",
      "Sample: 329 Mean sample: 172.4764043893837\n",
      "Sample: 330 Mean sample: 171.8229891306343\n",
      "Sample: 331 Mean sample: 170.67173816614144\n",
      "Sample: 332 Mean sample: 172.6966076913146\n",
      "Sample: 333 Mean sample: 171.6376245764548\n",
      "Sample: 334 Mean sample: 172.02274650961598\n",
      "Sample: 335 Mean sample: 172.59149521166134\n",
      "Sample: 336 Mean sample: 173.04572889665104\n",
      "Sample: 337 Mean sample: 171.42114339710554\n",
      "Sample: 338 Mean sample: 171.9158785872262\n",
      "Sample: 339 Mean sample: 172.52349847658462\n",
      "Sample: 340 Mean sample: 171.99752954585546\n",
      "Sample: 341 Mean sample: 172.6785554217261\n",
      "Sample: 342 Mean sample: 171.36004753537688\n",
      "Sample: 343 Mean sample: 171.60437385324246\n",
      "Sample: 344 Mean sample: 172.2211546793179\n",
      "Sample: 345 Mean sample: 171.55142175857543\n",
      "Sample: 346 Mean sample: 171.1090944569839\n",
      "Sample: 347 Mean sample: 171.0826709592788\n",
      "Sample: 348 Mean sample: 172.4930814954672\n",
      "Sample: 349 Mean sample: 171.0924260704737\n",
      "Sample: 350 Mean sample: 172.17588303663732\n",
      "Sample: 351 Mean sample: 172.3121000669372\n",
      "Sample: 352 Mean sample: 171.559746981286\n",
      "Sample: 353 Mean sample: 172.96717428468912\n",
      "Sample: 354 Mean sample: 170.9695688866329\n",
      "Sample: 355 Mean sample: 172.40049192809616\n",
      "Sample: 356 Mean sample: 172.8644173394355\n",
      "Sample: 357 Mean sample: 171.11341965338775\n",
      "Sample: 358 Mean sample: 170.43821023646333\n",
      "Sample: 359 Mean sample: 171.3745857265041\n",
      "Sample: 360 Mean sample: 172.38010537944785\n",
      "Sample: 361 Mean sample: 173.39919328106328\n",
      "Sample: 362 Mean sample: 172.57927553982918\n",
      "Sample: 363 Mean sample: 171.7523151509625\n",
      "Sample: 364 Mean sample: 171.92714893397323\n",
      "Sample: 365 Mean sample: 172.78806643087367\n"
     ]
    }
   ],
   "source": [
    "seed(47)\n",
    "# calculate daily means from the larger sample size here\n",
    "\n",
    "mean_sample = [0]*365\n",
    "\n",
    "for i in range(0, 365):\n",
    "    sample = townsfolk_sampler(50)\n",
    "    mean_sample[i] = np.mean(sample)\n",
    "    print('Sample:', i+1, 'Mean sample:', mean_sample[i])\n"
   ]
  },
  {
   "cell_type": "code",
   "execution_count": 23,
   "metadata": {},
   "outputs": [
    {
     "data": {
      "image/png": "[encoded data removed]",
      "text/plain": [
       "<Figure size 432x288 with 1 Axes>"
      ]
     },
     "metadata": {
      "needs_background": "light"
     },
     "output_type": "display_data"
    },
    {
     "name": "stdout",
     "output_type": "stream",
     "text": [
      "The mean of our distribution of sample means is: 171.94366080916114\n",
      "The standard deviation is: 0.6736107539771146\n"
     ]
    }
   ],
   "source": [
    "plt.hist(mean_sample, bins = 10) \n",
    "plt.xlim(xmin=166, xmax = 178)\n",
    "plt.xlabel('Mean')\n",
    "plt.ylabel('Frequency')\n",
    "plt.show()\n",
    "\n",
    "print('The mean of our distribution of sample means is:', np.mean(mean_sample))\n",
    "\n",
    "print('The standard deviation is:', np.std(mean_sample))"
   ]
  },
  {
   "cell_type": "markdown",
   "metadata": {},
   "source": [
    "What we've seen so far, then, is that we can estimate population parameters from a sample from the population, and that samples have their own distributions. Furthermore, the larger the sample size, the narrower are those sampling distributions."
   ]
  },
  {
   "cell_type": "markdown",
   "metadata": {},
   "source": [
    "### Normally testing time!"
   ]
  },
  {
   "cell_type": "markdown",
   "metadata": {},
   "source": [
    "All of the above is well and good. We've been sampling from a population we know is normally distributed, we've come to understand when to use $n$ and when to use $n-1$ in the denominator to calculate the spread of a distribution, and we've  seen the Central Limit Theorem in action for a sampling distribution. All seems very well behaved in Frequentist land. But, well, why should we really care?"
   ]
  },
  {
   "cell_type": "markdown",
   "metadata": {},
   "source": [
    "Remember, we rarely (if ever) actually know our population parameters but we still have to estimate them somehow. If we want to make inferences to conclusions like \"this observation is unusual\" or \"my population mean has changed\" then we need to have some idea of what the underlying distribution is so we can calculate relevant probabilities. In frequentist inference, we use the formulae above to deduce these population parameters. Take a moment in the next part of this assignment to refresh your understanding of how these probabilities work."
   ]
  },
  {
   "cell_type": "markdown",
   "metadata": {},
   "source": [
    "Recall some basic properties of the standard normal distribution, such as that about 68% of observations are within plus or minus 1 standard deviation of the mean. Check out the precise definition of a normal distribution on p. 394 of *AoS*. \n",
    "\n",
    "__Q11:__ Using this fact, calculate the probability of observing the value 1 or less in a single observation from the standard normal distribution. Hint: you may find it helpful to sketch the standard normal distribution (the familiar bell shape) and mark the number of standard deviations from the mean on the x-axis and shade the regions of the curve that contain certain percentages of the population."
   ]
  },
  {
   "cell_type": "markdown",
   "metadata": {},
   "source": [
    "__A:__\n",
    "\n",
    "We want to compute the area under the standard normal distribution when we go in the x axis from x--> - Infinity to x = 1. We know that the total area under the normal distribution is 1 (the total probability). Since the normal distribution is symmetric with respect to the mean -which in our case is 0-, the area under the region going from -Infinity to 0 is 0.5. The standard deviation of the standard normal distribution is 1, and so the area under the region determined by the interval [-1,1] in the x axis is about 0.68. Adding up the area under the normal distribution in the ranges (-Infinity, 0) and [0,1] yields a probability of about 0.84. This is the probability of observing the value 1 or less in a single observation. "
   ]
  },
  {
   "cell_type": "markdown",
   "metadata": {},
   "source": [
    "Calculating this probability involved calculating the area under the curve from the value of 1 and below. To put it in mathematical terms, we need to *integrate* the probability density function. We could just add together the known areas of chunks (from -Inf to 0 and then 0 to $+\\sigma$ in the example above). One way to do this is to look up tables (literally). Fortunately, scipy has this functionality built in with the cdf() function."
   ]
  },
  {
   "cell_type": "markdown",
   "metadata": {},
   "source": [
    "__Q12:__ Use the cdf() function to answer the question above again and verify you get the same answer."
   ]
  },
  {
   "cell_type": "markdown",
   "metadata": {},
   "source": [
    "__A:__"
   ]
  },
  {
   "cell_type": "code",
   "execution_count": 24,
   "metadata": {},
   "outputs": [
    {
     "data": {
      "text/plain": [
       "0.8413447460685429"
      ]
     },
     "execution_count": 24,
     "metadata": {},
     "output_type": "execute_result"
    }
   ],
   "source": [
    "norm.cdf(1)"
   ]
  },
  {
   "cell_type": "markdown",
   "metadata": {},
   "source": [
    "__Q13:__ Using our knowledge of the population parameters for our townsfolks' heights, what is the probability of selecting one person at random and their height being 177 cm or less? Calculate this using both of the approaches given above."
   ]
  },
  {
   "cell_type": "markdown",
   "metadata": {},
   "source": [
    "__A:__"
   ]
  },
  {
   "cell_type": "code",
   "execution_count": 25,
   "metadata": {},
   "outputs": [
    {
     "data": {
      "text/plain": [
       "0.8413447460685429"
      ]
     },
     "execution_count": 25,
     "metadata": {},
     "output_type": "execute_result"
    }
   ],
   "source": [
    "norm(loc=172, scale=5).cdf(177)"
   ]
  },
  {
   "cell_type": "markdown",
   "metadata": {},
   "source": [
    "__Q14:__ Turning this question around — suppose we randomly pick one person and measure their height and find they are 2.00 m tall. How surprised should we be at this result, given what we know about the population distribution? In other words, how likely would it be to obtain a value at least as extreme as this? Express this as a probability. "
   ]
  },
  {
   "cell_type": "markdown",
   "metadata": {},
   "source": [
    "__A:__"
   ]
  },
  {
   "cell_type": "code",
   "execution_count": 26,
   "metadata": {},
   "outputs": [
    {
     "data": {
      "text/plain": [
       "1.0717590259723409e-08"
      ]
     },
     "execution_count": 26,
     "metadata": {},
     "output_type": "execute_result"
    }
   ],
   "source": [
    "1-norm(loc=172, scale=5).cdf(200)"
   ]
  },
  {
   "cell_type": "markdown",
   "metadata": {},
   "source": [
    "What we've just done is calculate the ***p-value*** of the observation of someone 2.00m tall (review *p*-values if you need to on p. 399 of *AoS*). We could calculate this probability by virtue of knowing the population parameters. We were then able to use the known properties of the relevant normal distribution to calculate the probability of observing a value at least as extreme as our test value."
   ]
  },
  {
   "cell_type": "markdown",
   "metadata": {},
   "source": [
    "We're about to come to a pinch, though. We've said a couple of times that we rarely, if ever, know the true population parameters; we have to estimate them from our sample and we cannot even begin to estimate the standard deviation from a single observation. \n",
    "\n",
    "This is very true and usually we have sample sizes larger than one. This means we can calculate the mean of the sample as our best estimate of the population mean and the standard deviation as our best estimate of the population standard deviation. \n",
    "\n",
    "In other words, we are now coming to deal with the sampling distributions we mentioned above as we are generally concerned with the properties of the sample means we obtain. \n",
    "\n",
    "Above, we highlighted one result from the CLT, whereby the sampling distribution (of the mean) becomes narrower and narrower with the square root of the sample size. We remind ourselves that another result from the CLT is that _even if the underlying population distribution is not normal, the sampling distribution will tend to become normal with sufficiently large sample size_. (**Check out p. 199 of AoS if you need to revise this**). This is the key driver for us 'requiring' a certain sample size, for example you may frequently see a minimum sample size of 30 stated in many places. In reality this is simply a rule of thumb; if the underlying distribution is approximately normal then your sampling distribution will already be pretty normal, but if the underlying distribution is heavily skewed then you'd want to increase your sample size."
   ]
  },
  {
   "cell_type": "markdown",
   "metadata": {},
   "source": [
    "__Q15:__ Let's now start from the position of knowing nothing about the heights of people in our town.\n",
    "* Use the random seed of 47, to randomly sample the heights of 50 townsfolk\n",
    "* Estimate the population mean using np.mean\n",
    "* Estimate the population standard deviation using np.std (remember which denominator to use!)\n",
    "* Calculate the (95%) [margin of error](https://www.statisticshowto.datasciencecentral.com/probability-and-statistics/hypothesis-testing/margin-of-error/#WhatMofE) (use the exact critial z value to 2 decimal places - [look this up](https://www.statisticshowto.datasciencecentral.com/probability-and-statistics/find-critical-values/) or use norm.ppf()) Recall that the ***margin of error*** is mentioned on p. 189 of the *AoS* and discussed in depth in that chapter). \n",
    "* Calculate the 95% Confidence Interval of the mean (***confidence intervals*** are defined on p. 385 of *AoS*) \n",
    "* Does this interval include the true population mean?"
   ]
  },
  {
   "cell_type": "markdown",
   "metadata": {},
   "source": [
    "__A:__"
   ]
  },
  {
   "cell_type": "code",
   "execution_count": 27,
   "metadata": {},
   "outputs": [],
   "source": [
    "seed(47)\n",
    "# take your sample now\n",
    "sample = townsfolk_sampler(50)"
   ]
  },
  {
   "cell_type": "code",
   "execution_count": 28,
   "metadata": {},
   "outputs": [
    {
     "name": "stdout",
     "output_type": "stream",
     "text": [
      "The sample mean is: 172.7815108576788\n"
     ]
    }
   ],
   "source": [
    "print('The sample mean is:', np.mean(sample))"
   ]
  },
  {
   "cell_type": "code",
   "execution_count": 29,
   "metadata": {},
   "outputs": [
    {
     "name": "stdout",
     "output_type": "stream",
     "text": [
      "The sample standard deviation is: 4.195424364433547\n"
     ]
    }
   ],
   "source": [
    "print('The sample standard deviation is:', np.std(sample, ddof=1))"
   ]
  },
  {
   "cell_type": "code",
   "execution_count": 46,
   "metadata": {},
   "outputs": [
    {
     "name": "stdout",
     "output_type": "stream",
     "text": [
      "1.96\n",
      "Margin of error: 1.162912303074119\n"
     ]
    }
   ],
   "source": [
    "# Calculate the standard error of the sample mean\n",
    "std_error = np.std(sample, ddof=1) / np.sqrt(len(sample))\n",
    "\n",
    "# Round the critical z value to two decimal places. The 0.975 comes from setting alpha = 0.05 for 95% confidence\n",
    "# and compute the percent point function for 1-alpha/2\n",
    "z_critical_rounded = round(norm.ppf(0.975), 2)\n",
    "\n",
    "print(z_critical_rounded)\n",
    "\n",
    "# Calculate the margin of error\n",
    "margin_of_error = z_critical_rounded * std_error\n",
    "\n",
    "# print the margin of error\n",
    "print(\"Margin of error:\", margin_of_error)"
   ]
  },
  {
   "cell_type": "code",
   "execution_count": 47,
   "metadata": {},
   "outputs": [
    {
     "name": "stdout",
     "output_type": "stream",
     "text": [
      "95% Confidence Interval: (171.6185985546047, 173.9444231607529)\n"
     ]
    }
   ],
   "source": [
    "# Calculate the lower and upper bounds of the confidence interval\n",
    "lower_bound = np.mean(sample) - margin_of_error\n",
    "upper_bound = np.mean(sample) + margin_of_error\n",
    "\n",
    "# Print the confidence interval\n",
    "print(\"95% Confidence Interval:\", (lower_bound, upper_bound))"
   ]
  },
  {
   "cell_type": "code",
   "execution_count": null,
   "metadata": {},
   "outputs": [],
   "source": []
  },
  {
   "cell_type": "markdown",
   "metadata": {},
   "source": [
    "We see that the 95% confidence interval includes the true population mean. The 95% confidence interval is saying that, if we did not know the true population mean, we would be 95% confident of finding it within the interval (171.6185985, 173.9444231). So it is hardly surprising that 172 is included. "
   ]
  },
  {
   "cell_type": "markdown",
   "metadata": {},
   "source": [
    "__Q16:__ Above, we calculated the confidence interval using the critical z value. What is the problem with this? What requirement, or requirements, are we (strictly) failing?"
   ]
  },
  {
   "cell_type": "markdown",
   "metadata": {},
   "source": [
    "__A:__\n",
    "\n",
    "The critical z value is used for calculating confidence intervals whenever we know the population standard deviation. In this exercise we are interested in computing confidence intervals from the sample parameters, as if we did not know the population distribution (although we know that the population distribution is a normal). In particular, we are estimating the standard error from the sample standard deviation, which should not be mixed up with using the z score: t-statistics is the suitable approach instead. "
   ]
  },
  {
   "cell_type": "markdown",
   "metadata": {},
   "source": [
    "__Q17:__ Calculate the 95% confidence interval for the mean using the _t_ distribution. Is this wider or narrower than that based on the normal distribution above? If you're unsure, you may find this [resource](https://www.statisticshowto.datasciencecentral.com/probability-and-statistics/confidence-interval/) useful. For calculating the critical value, remember how you could calculate this for the normal distribution using norm.ppf()."
   ]
  },
  {
   "cell_type": "markdown",
   "metadata": {},
   "source": [
    "__A:__"
   ]
  },
  {
   "cell_type": "code",
   "execution_count": 45,
   "metadata": {},
   "outputs": [
    {
     "name": "stdout",
     "output_type": "stream",
     "text": [
      "95% Confidence Interval (t-distribution): (171.589184447403, 173.9738372679546)\n"
     ]
    }
   ],
   "source": [
    "# Calculate the critical t value for a 95% confidence interval\n",
    "df = len(sample) - 1  # degrees of freedom\n",
    "t_critical = t.ppf(0.975, df)\n",
    "\n",
    "# Calculate the margin of error\n",
    "margin_of_error = t_critical * std_error\n",
    "\n",
    "# Calculate the lower and upper bounds of the confidence interval\n",
    "lower_bound = np.mean(sample) - margin_of_error\n",
    "upper_bound = np.mean(sample) + margin_of_error\n",
    "\n",
    "# Print the confidence interval\n",
    "print(\"95% Confidence Interval (t-distribution):\", (lower_bound, upper_bound))"
   ]
  },
  {
   "cell_type": "markdown",
   "metadata": {},
   "source": [
    "Compared to the confidence interval based on the normal distribution, the confidence interval based on\n",
    "the t-distribution is wider. This is because the t-distribution has fatter tails than the normal distribution, \n",
    "which means that it assigns more probability to extreme values and therefore has more uncertainty in the estimation \n",
    "of the population mean. As a result, the critical t value is larger (in absolute value) than the critical z value, \n",
    "which leads to a wider margin of error and a wider confidence interval."
   ]
  },
  {
   "cell_type": "code",
   "execution_count": null,
   "metadata": {},
   "outputs": [],
   "source": []
  },
  {
   "cell_type": "code",
   "execution_count": null,
   "metadata": {},
   "outputs": [],
   "source": []
  },
  {
   "cell_type": "code",
   "execution_count": null,
   "metadata": {},
   "outputs": [],
   "source": []
  },
  {
   "cell_type": "markdown",
   "metadata": {},
   "source": [
    "This is slightly wider than the previous confidence interval. This reflects the greater uncertainty given that we are estimating population parameters from a sample."
   ]
  },
  {
   "cell_type": "markdown",
   "metadata": {},
   "source": [
    "## 4. Learning outcomes"
   ]
  },
  {
   "cell_type": "markdown",
   "metadata": {},
   "source": [
    "Having completed this project notebook, you now have hands-on experience:\n",
    "* sampling and calculating probabilities from a normal distribution\n",
    "* identifying the correct way to estimate the standard deviation of a population (the population parameter) from a sample\n",
    "* with sampling distribution and now know how the Central Limit Theorem applies\n",
    "* with how to calculate critical values and confidence intervals"
   ]
  },
  {
   "cell_type": "code",
   "execution_count": null,
   "metadata": {},
   "outputs": [],
   "source": []
  }
 ],
 "metadata": {
  "kernelspec": {
   "display_name": "Python 3 (ipykernel)",
   "language": "python",
   "name": "python3"
  },
  "language_info": {
   "codemirror_mode": {
    "name": "ipython",
    "version": 3
   },
   "file_extension": ".py",
   "mimetype": "text/x-python",
   "name": "python",
   "nbconvert_exporter": "python",
   "pygments_lexer": "ipython3",
   "version": "3.9.7"
  }
 },
 "nbformat": 4,
 "nbformat_minor": 2
}
